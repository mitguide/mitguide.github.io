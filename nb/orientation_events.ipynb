{
 "cells": [
  {
   "cell_type": "code",
   "execution_count": 16,
   "metadata": {},
   "outputs": [],
   "source": [
    "import pandas as pd\n",
    "from datetime import datetime\n",
    "import json\n",
    "import pytz"
   ]
  },
  {
   "cell_type": "code",
   "execution_count": 9,
   "metadata": {},
   "outputs": [],
   "source": [
    "events = json.load(open(\"./events.json\"))"
   ]
  },
  {
   "cell_type": "code",
   "execution_count": 10,
   "metadata": {},
   "outputs": [],
   "source": [
    "events_data = events[\"objects\"]"
   ]
  },
  {
   "cell_type": "code",
   "execution_count": 25,
   "metadata": {},
   "outputs": [],
   "source": [
    "to_export = []\n",
    "\n",
    "for evt in events_data:\n",
    "    start = datetime.strptime(evt[\"start_time\"].rsplit(\"-\", 1)[0], \"%Y-%m-%dT%H:%M:%S.%f\").astimezone(pytz.timezone(\"America/New_York\"))\n",
    "    end = datetime.strptime(evt[\"end_time\"].rsplit(\"-\", 1)[0], \"%Y-%m-%dT%H:%M:%S.%f\").astimezone(pytz.timezone(\"America/New_York\"))\n",
    "    \n",
    "    start_date = start.isoformat()\n",
    "    end_date = end.isoformat()\n",
    "    title = evt[\"name\"]\n",
    "    evt_id = evt[\"id\"]\n",
    "    \n",
    "    export = {\n",
    "        \"title\": title,\n",
    "        \"start\": start_date,\n",
    "        \"end\": end_date,\n",
    "        \"url\": f\"https://guidebook.com/guide/173503/event/{evt_id}\"\n",
    "    }\n",
    "    \n",
    "    to_export.append(export)\n",
    "    "
   ]
  },
  {
   "cell_type": "code",
   "execution_count": 28,
   "metadata": {},
   "outputs": [],
   "source": [
    "json.dump(to_export, open(\"events_parsed.json\", \"w\"))"
   ]
  },
  {
   "cell_type": "code",
   "execution_count": null,
   "metadata": {},
   "outputs": [],
   "source": []
  }
 ],
 "metadata": {
  "@webio": {
   "lastCommId": null,
   "lastKernelId": null
  },
  "kernelspec": {
   "display_name": "Python 3",
   "language": "python",
   "name": "python3"
  },
  "language_info": {
   "codemirror_mode": {
    "name": "ipython",
    "version": 3
   },
   "file_extension": ".py",
   "mimetype": "text/x-python",
   "name": "python",
   "nbconvert_exporter": "python",
   "pygments_lexer": "ipython3",
   "version": "3.7.7"
  }
 },
 "nbformat": 4,
 "nbformat_minor": 4
}
