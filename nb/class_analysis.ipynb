{
 "cells": [
  {
   "cell_type": "code",
   "execution_count": 1,
   "metadata": {},
   "outputs": [],
   "source": [
    "import json"
   ]
  },
  {
   "cell_type": "code",
   "execution_count": 3,
   "metadata": {},
   "outputs": [],
   "source": [
    "class_data = json.load(open(\"./all_mit_classes.json\"))"
   ]
  },
  {
   "cell_type": "code",
   "execution_count": 12,
   "metadata": {},
   "outputs": [
    {
     "name": "stdout",
     "output_type": "stream",
     "text": [
      "10.10\tChemistry (GIR) and Physics I (GIR); [18.03]\n",
      "12.021\tCalculus I (GIR), Chemistry (GIR), and Physics I (GIR)\n",
      "12.301\tChemistry (GIR), 18.03, or permission of instructor\n",
      "12.335\tChemistry (GIR)\n",
      "12.842\tChemistry (GIR), 18.03, or permission of instructor\n",
      "16.715\tChemistry (GIR) and (1.060, 2.006, 10.301, 16.003, 16.004, or permission of instructor)\n",
      "2.772\t(Biology (GIR), Calculus II (GIR), Chemistry (GIR), and Physics I (GIR)) or permission of instructor\n",
      "2.787\t(Biology (GIR), Chemistry (GIR), and Physics I (GIR)) or permission of instructor\n",
      "2.79\t(Biology (GIR), Chemistry (GIR), and Physics I (GIR)) or permission of instructor\n",
      "20.102\tBiology (GIR), Calculus II (GIR), and Chemistry (GIR)\n",
      "20.109\tBiology (GIR), Chemistry (GIR), 6.0002, 18.03, and 20.110\n",
      "20.110\t(Biology (GIR), Calculus II (GIR), Chemistry (GIR), and Physics I (GIR)) or permission of instructor\n",
      "3.010\tChemistry (GIR); [18.03 or 18.032]\n",
      "3.034A\tChemistry (GIR)\n",
      "5.12\tChemistry (GIR)\n",
      "5.351\tChemistry (GIR)\n",
      "5.60\tCalculus II (GIR) and Chemistry (GIR)\n",
      "5.601\tCalculus II (GIR) and Chemistry (GIR)\n",
      "5.61\tCalculus II (GIR), Chemistry (GIR), and Physics II (GIR)\n",
      "5.611\tCalculus II (GIR), Chemistry (GIR), and Physics II (GIR)\n",
      "HST.522\t(Biology (GIR), Chemistry (GIR), and Physics I (GIR)) or permission of instructor\n",
      "HST.535\t(Biology (GIR), Chemistry (GIR), and Physics I (GIR)) or permission of instructor\n",
      "22\n"
     ]
    }
   ],
   "source": [
    "count = 0\n",
    "for k, v in class_data.items():\n",
    "    if \"Chem\" in v['pr']:\n",
    "        print(f\"{k}\\t{v['pr']}\")\n",
    "        count += 1\n",
    "print(count)"
   ]
  },
  {
   "cell_type": "code",
   "execution_count": 13,
   "metadata": {},
   "outputs": [
    {
     "name": "stdout",
     "output_type": "stream",
     "text": [
      "1.050\tPhysics I (GIR); [Calculus II (GIR)]\n",
      "1.053\tPhysics II (GIR); [2.087 or 18.03]\n",
      "10.10\tChemistry (GIR) and Physics I (GIR); [18.03]\n",
      "12.003\tCalculus II (GIR) and Physics I (GIR)\n",
      "12.006\tPhysics II (GIR) and (18.03 or 18.032)\n",
      "12.010\tCalculus II (GIR) and Physics I (GIR)\n",
      "12.021\tCalculus I (GIR), Chemistry (GIR), and Physics I (GIR)\n",
      "12.421\tPhysics II (GIR) and 6.0001\n",
      "12.620\tPhysics I (GIR), 18.03, and permission of instructor\n",
      "12.621\tPhysics II (GIR) and 6.0001\n",
      "16.001\tCalculus II (GIR) and Physics I (GIR); [16.002 and 18.03]\n",
      "16.002\tCalculus II (GIR); [Physics II (GIR), 16.001, and (18.03 or 18.032)]\n",
      "18.353\tPhysics II (GIR) and (18.03 or 18.032)\n",
      "2.001\tPhysics I (GIR); [2.087 or 18.03]\n",
      "2.003\tPhysics II (GIR); [2.087 or 18.03]\n",
      "2.004\tPhysics II (GIR) and 2.003\n",
      "2.005\t(Calculus II (GIR), Physics II (GIR), and (2.086, 6.0002, or 18.06)) or permission of instructor\n",
      "2.050\tPhysics II (GIR) and (18.03 or 18.032)\n",
      "2.086\tCalculus II (GIR) and Physics I (GIR); [2.087 or 18.03]\n",
      "2.671\tPhysics II (GIR), 2.001, 2.003, and 2.086\n",
      "2.673\t(Biology (GIR), Physics II (GIR), 6.0002, and 18.03) or permission of instructor\n",
      "2.678\tPhysics II (GIR)\n",
      "2.71\t(Physics II (GIR), 2.004, and 18.03) or permission of instructor\n",
      "2.710\t(Physics II (GIR), 2.004, and 18.03) or permission of instructor\n",
      "2.772\t(Biology (GIR), Calculus II (GIR), Chemistry (GIR), and Physics I (GIR)) or permission of instructor\n",
      "2.787\t(Biology (GIR), Chemistry (GIR), and Physics I (GIR)) or permission of instructor\n",
      "2.79\t(Biology (GIR), Chemistry (GIR), and Physics I (GIR)) or permission of instructor\n",
      "2.791\t(Physics II (GIR), 18.03, and (2.005, 6.002, 6.003, 10.301, or 20.110)) or permission of instructor\n",
      "2.794\t(Physics II (GIR), 18.03, and (2.005, 6.002, 6.003, 10.301, or 20.110)) or permission of instructor\n",
      "20.110\t(Biology (GIR), Calculus II (GIR), Chemistry (GIR), and Physics I (GIR)) or permission of instructor\n",
      "20.309\t(Biology (GIR), Physics II (GIR), 6.0002, and 18.03) or permission of instructor\n",
      "20.370\t(Physics II (GIR), 18.03, and (2.005, 6.002, 6.003, 10.301, or 20.110)) or permission of instructor\n",
      "20.470\t(Physics II (GIR), 18.03, and (2.005, 6.002, 6.003, 10.301, or 20.110)) or permission of instructor\n",
      "3.013\tPhysics I (GIR) and [18.03]; or permission of instructor\n",
      "3.032\tPhysics I (GIR) and (18.03 or 3.016B)\n",
      "4.411\tCalculus I (GIR) and Physics I (GIR)\n",
      "5.61\tCalculus II (GIR), Chemistry (GIR), and Physics II (GIR)\n",
      "5.611\tCalculus II (GIR), Chemistry (GIR), and Physics II (GIR)\n",
      "6.002\tPhysics II (GIR); [2.087 or 18.03]\n",
      "6.004\tPhysics II (GIR) and 6.0001\n",
      "6.014\tPhysics II (GIR) and 18.03\n",
      "6.021\t(Physics II (GIR), 18.03, and (2.005, 6.002, 6.003, 10.301, or 20.110)) or permission of instructor\n",
      "6.163\tPhysics II (GIR) or permission of instructor\n",
      "6.521\t(Physics II (GIR), 18.03, and (2.005, 6.002, 6.003, 10.301, or 20.110)) or permission of instructor\n",
      "6.630\tPhysics II (GIR) and 6.003\n",
      "6.640\tPhysics II (GIR) and 18.03\n",
      "6.946\tPhysics I (GIR), 18.03, and permission of instructor\n",
      "8.02\tCalculus I (GIR) and Physics I (GIR)\n",
      "8.021\tCalculus I (GIR), Physics I (GIR), and permission of instructor\n",
      "8.022\tPhysics I (GIR); [Calculus II (GIR)]\n",
      "8.03\tCalculus II (GIR) and Physics II (GIR)\n",
      "8.033\tCalculus II (GIR) and Physics II (GIR)\n",
      "8.286\tPhysics II (GIR) and 18.03\n",
      "8.351\tPhysics I (GIR), 18.03, and permission of instructor\n",
      "9.021\t(Physics II (GIR), 18.03, and (2.005, 6.002, 6.003, 10.301, or 20.110)) or permission of instructor\n",
      "9.21\t(Physics II (GIR), 18.03, and (2.005, 6.002, 6.003, 10.301, or 20.110)) or permission of instructor\n",
      "EC.713\tCalculus I (GIR) and Physics I (GIR)\n",
      "HST.031\tBiology (GIR), Physics I (GIR), and permission of instructor\n",
      "HST.120\tPhysics I (GIR) and 7.05\n",
      "HST.121\tBiology (GIR), Physics I (GIR), 7.05, and permission of instructor\n",
      "HST.522\t(Biology (GIR), Chemistry (GIR), and Physics I (GIR)) or permission of instructor\n",
      "HST.535\t(Biology (GIR), Chemistry (GIR), and Physics I (GIR)) or permission of instructor\n",
      "HST.541\t(Physics II (GIR), 18.03, and (2.005, 6.002, 6.003, 10.301, or 20.110)) or permission of instructor\n",
      "63\n"
     ]
    }
   ],
   "source": [
    "count = 0\n",
    "for k, v in class_data.items():\n",
    "    if \"Physics\" in v['pr']:\n",
    "        print(f\"{k}\\t{v['pr']}\")\n",
    "        count += 1\n",
    "print(count)"
   ]
  },
  {
   "cell_type": "code",
   "execution_count": null,
   "metadata": {},
   "outputs": [],
   "source": []
  }
 ],
 "metadata": {
  "kernelspec": {
   "display_name": "Python 3",
   "language": "python",
   "name": "python3"
  },
  "language_info": {
   "codemirror_mode": {
    "name": "ipython",
    "version": 3
   },
   "file_extension": ".py",
   "mimetype": "text/x-python",
   "name": "python",
   "nbconvert_exporter": "python",
   "pygments_lexer": "ipython3",
   "version": "3.7.7"
  }
 },
 "nbformat": 4,
 "nbformat_minor": 4
}
